{
 "cells": [
  {
   "cell_type": "code",
   "execution_count": 1,
   "outputs": [],
   "source": [
    "import gzip\n",
    "import struct\n",
    "import numpy as np\n",
    "import pandas as pd\n",
    "\n",
    "with gzip.open('MNIST\\\\t10k-images-idx3-ubyte','rb') as f:\n",
    "    magic, size = struct.unpack(\">II\", f.read(8))\n",
    "    nrows, ncols = struct.unpack(\">II\", f.read(8))\n",
    "    data = np.frombuffer(f.read(), dtype=np.dtype(np.uint8).newbyteorder('>'))\n",
    "    data = data.reshape((size, nrows, ncols))\n",
    "\n",
    "with gzip.open('MNIST\\\\t10k-labels-idx1-ubyte','rb') as f:\n",
    "    magic, size = struct.unpack(\">II\", f.read(8))\n",
    "    labels = np.frombuffer(f.read(), dtype=np.dtype(np.uint8).newbyteorder('>'))\n",
    "    labels = labels.reshape((size,))"
   ],
   "metadata": {
    "collapsed": false,
    "pycharm": {
     "name": "#%%\n"
    }
   }
  },
  {
   "cell_type": "code",
   "execution_count": 2,
   "outputs": [],
   "source": [
    "# Chooser:\n",
    "# Input layer: image[28*28 = 784]\n",
    "# Hidden layer 1: [16]\n",
    "# Hidden layer 2: [18]\n",
    "# Output: [10]\n",
    "CHOOSER_HIDDEN1_SIZE = 16\n",
    "CHOOSER_HIDDEN2_SIZE = 8\n",
    "CHOOSER_OUTPUT_SIZE = 10\n",
    "\n",
    "\n",
    "\n",
    "class Chooser:\n",
    "    def __init__(self, paths=None, input_size=784):\n",
    "        # paths: array of csv files containing  weights and biases\n",
    "        if paths is None:\n",
    "            self.hidden_layer1 = np.zeros(CHOOSER_HIDDEN1_SIZE)\n",
    "            self.hidden_layer2 = np.zeros(CHOOSER_HIDDEN2_SIZE)\n",
    "            self.output_layer = np.zeros(CHOOSER_OUTPUT_SIZE)\n",
    "            self.weights1 = np.random.normal(loc=0, scale=1/input_size**2, size=(CHOOSER_HIDDEN1_SIZE, input_size))\n",
    "            self.weights2 = np.random.normal(loc=0, scale=1/CHOOSER_HIDDEN1_SIZE**2, size=(CHOOSER_HIDDEN2_SIZE, CHOOSER_HIDDEN1_SIZE))\n",
    "            self.weights3 = np.random.normal(loc=0, scale=1/CHOOSER_HIDDEN2_SIZE**2, size=(CHOOSER_OUTPUT_SIZE, CHOOSER_HIDDEN2_SIZE))\n",
    "            self.weights = (self.weights1, self.weights2, self.weights3)\n",
    "            self.input_size = input_size\n",
    "        else:\n",
    "            self.weights1 = pd.read_csv(paths[0], index_col=0).to_numpy()\n",
    "            self.weights2 = pd.read_csv(paths[1], index_col=0).to_numpy()\n",
    "            self.weights3 = pd.read_csv(paths[2], index_col=0).to_numpy()\n",
    "            self.hidden_layer1 = pd.read_csv(paths[3], index_col=0).to_numpy().flatten()\n",
    "            self.hidden_layer2 = pd.read_csv(paths[4], index_col=0).to_numpy().flatten()\n",
    "            self.output_layer = pd.read_csv(paths[5], index_col=0).to_numpy().flatten()\n",
    "            self.weights = (self.weights1, self.weights2, self.weights3)\n",
    "            self.input_size = input_size\n",
    "\n",
    "\n",
    "    def train(self, input_data, right_answer):\n",
    "        if input_data.size != self.input_size:\n",
    "            raise ValueError(\"Chooser input len error\")\n",
    "\n",
    "        input_data = input_data / 255\n",
    "\n",
    "        z_hidden_layer1 = np.dot(self.weights1, input_data) + self.hidden_layer1\n",
    "        a_hidden_layer1 = np.fromiter(map(Chooser.relu, z_hidden_layer1), float)\n",
    "        z_hidden_layer2 = np.dot(self.weights2, a_hidden_layer1) + self.hidden_layer2\n",
    "        a_hidden_layer2 = np.fromiter(map(Chooser.relu, z_hidden_layer2), float)\n",
    "        z_out = np.dot(self.weights3, a_hidden_layer2) + self.output_layer\n",
    "        a_out = np.fromiter(map(Chooser.relu, z_out), float)\n",
    "\n",
    "        desired_answers = np.zeros(CHOOSER_OUTPUT_SIZE)\n",
    "        desired_answers[right_answer] = 1\n",
    "\n",
    "        # cost = np.sum([(a_out[i] - desired_answers[i])**2 for i in range(CHOOSER_OUTPUT_SIZE)])\n",
    "\n",
    "        gradient_out = np.zeros(shape=self.output_layer.shape)\n",
    "        gradient_biases_out = np.zeros(shape=self.output_layer.shape)\n",
    "        gradient_weights3 = np.zeros(shape=self.weights3.shape)\n",
    "        gradient_hl2 = np.zeros(shape=a_hidden_layer2.shape)\n",
    "        gradient_biases_hl2 = np.zeros(shape=self.hidden_layer2.shape)\n",
    "        gradient_weights2 = np.zeros(shape=self.weights2.shape)\n",
    "        gradient_hl1 = np.zeros(shape=a_hidden_layer1.shape)\n",
    "        gradient_biases_hl1 = np.zeros(shape=self.hidden_layer1.shape)\n",
    "        gradient_weights1 = np.zeros(shape=self.weights1.shape)\n",
    "\n",
    "\n",
    "        # Output layer cost f., weights, biases\n",
    "        for i in range(CHOOSER_OUTPUT_SIZE):\n",
    "            gradient_out[i] = 2*(a_out[i]-desired_answers[i])\n",
    "\n",
    "        for i in range(CHOOSER_HIDDEN2_SIZE):\n",
    "            for j in range(CHOOSER_OUTPUT_SIZE):\n",
    "                gradient_weights3[j, i] = a_hidden_layer2[i] * np.heaviside(z_out[j], 1) * gradient_out[j]\n",
    "\n",
    "        for i in range(CHOOSER_OUTPUT_SIZE):\n",
    "            gradient_biases_out[i] = np.heaviside(z_out[i], 1) * gradient_out[i]\n",
    "\n",
    "        # Second hidden layer\n",
    "        for i in range(CHOOSER_HIDDEN2_SIZE):\n",
    "            for j in range(CHOOSER_OUTPUT_SIZE):\n",
    "                gradient_hl2[i] += self.weights3[j, i] * np.heaviside(z_out[j], 1) * gradient_out[j]\n",
    "\n",
    "        for i in range(CHOOSER_HIDDEN1_SIZE):\n",
    "            for j in range(CHOOSER_HIDDEN2_SIZE):\n",
    "                gradient_weights2[j, i] = a_hidden_layer1[i] * np.heaviside(z_hidden_layer2[j], 1) * gradient_hl2[j]\n",
    "\n",
    "        for i in range(CHOOSER_HIDDEN2_SIZE):\n",
    "            gradient_biases_hl2[i] = np.heaviside(z_hidden_layer2[i], 1) * gradient_hl2[i]\n",
    "\n",
    "        # First hidden layer\n",
    "        for i in range(CHOOSER_HIDDEN1_SIZE):\n",
    "            for j in range(CHOOSER_HIDDEN2_SIZE):\n",
    "                gradient_hl1[i] += self.weights2[j, i] * np.heaviside(z_hidden_layer2[j], 1) * gradient_hl2[j]\n",
    "\n",
    "        for i in range(self.input_size):\n",
    "            for j in range(CHOOSER_HIDDEN1_SIZE):\n",
    "                gradient_weights1[j, i] = input_data[i] * np.heaviside(z_hidden_layer1[j], 1) * gradient_hl1[j]\n",
    "\n",
    "        for i in range(CHOOSER_HIDDEN1_SIZE):\n",
    "            gradient_biases_hl1[i] = np.heaviside(z_hidden_layer1[i], 1) * gradient_hl1[i]\n",
    "\n",
    "        return np.array([gradient_biases_hl1, gradient_biases_hl2, gradient_biases_out, gradient_weights1, gradient_weights2, gradient_weights3], dtype=object)\n",
    "\n",
    "    def use_grad(self, gradient, learning_rate):\n",
    "        self.hidden_layer1 -= gradient[0] * learning_rate\n",
    "        self.hidden_layer2 -= gradient[1] * learning_rate\n",
    "        self.output_layer -= gradient[2] * learning_rate\n",
    "        self.weights1 -= gradient[3] * learning_rate\n",
    "        self.weights2 -= gradient[4] * learning_rate\n",
    "        self.weights3 -= gradient[5] * learning_rate\n",
    "\n",
    "    def test(self, data_x, data_y):\n",
    "        loss = 0\n",
    "        for i in range(len(data_x)):\n",
    "            desired_answers = np.zeros(CHOOSER_OUTPUT_SIZE)\n",
    "            desired_answers[data_y[i]] = 1\n",
    "            loss += np.sum((self._process(data_x[i].reshape(-1))-desired_answers)**2)\n",
    "        return loss/len(data_x)\n",
    "\n",
    "    def process(self, input_data):\n",
    "        return np.argmax(self._process(input_data))\n",
    "\n",
    "    def _process(self, input_data):\n",
    "        if input_data.size != self.input_size:\n",
    "            raise ValueError(\"Chooser input len error\")\n",
    "\n",
    "        input_data = input_data / 255\n",
    "\n",
    "        out_hidden_layer1 = np.fromiter(map(Chooser.relu, np.dot(self.weights1, input_data) + self.hidden_layer1),\n",
    "                                        float)\n",
    "        out_hidden_layer2 = np.fromiter(\n",
    "            map(Chooser.relu, np.dot(self.weights2, out_hidden_layer1) + self.hidden_layer2), float)\n",
    "        out = np.fromiter(map(Chooser.relu, np.dot(self.weights3, out_hidden_layer2) + self.output_layer), float)\n",
    "        return out\n",
    "\n",
    "    def get_init_variance(self):\n",
    "        summation = 0\n",
    "        count = 0\n",
    "        for weights in self.weights:\n",
    "            for weight in weights.reshape(-1):\n",
    "                summation += weight\n",
    "                count += 1\n",
    "\n",
    "        mean = summation/count\n",
    "        variance = 0\n",
    "\n",
    "        for weights in self.weights:\n",
    "            for weight in weights.reshape(-1):\n",
    "                variance += (weight - mean)**2\n",
    "\n",
    "        print(f\"Mean = {summation/count};\")\n",
    "        print(f\"Variance = {variance/count}\")\n",
    "        print(f\"Standard deviation = {(variance/count)**0.5}\")\n",
    "\n",
    "    @staticmethod\n",
    "    def relu(x):\n",
    "        return max(0, x)"
   ],
   "metadata": {
    "collapsed": false,
    "pycharm": {
     "name": "#%%\n"
    }
   }
  },
  {
   "cell_type": "code",
   "execution_count": 3,
   "outputs": [],
   "source": [
    "import pickle\n",
    "\n",
    "with open(\"nn1.pickle\", \"rb\") as f:\n",
    "    nn = pickle.load(f)"
   ],
   "metadata": {
    "collapsed": false,
    "pycharm": {
     "name": "#%%\n"
    }
   }
  },
  {
   "cell_type": "code",
   "execution_count": 4,
   "outputs": [],
   "source": [
    "def training(neironka, iterations=10_000, batch=200, test_size=20):\n",
    "    for iteration in range(0, iterations):\n",
    "        gradient = np.zeros(6, dtype='object')\n",
    "        if iteration%30==0:\n",
    "            print(f'Iteration {iteration}, lossTrain = {neironka.test(data[:batch], labels[:batch])}, lossTest = {neironka.test(data[batch:batch + test_size], labels[batch:batch + test_size])}')\n",
    "        for sample_num in range(batch * (iteration % 5), batch * (iteration % 5 + 1)):\n",
    "            gradient += neironka.train(data[sample_num].reshape(-1), labels[sample_num])\n",
    "        gradient /= batch\n",
    "        neironka.use_grad(gradient, learning_rate=0.1)\n",
    "\n",
    "# nn = Chooser()\n",
    "# training(nn)"
   ],
   "metadata": {
    "collapsed": false,
    "pycharm": {
     "name": "#%%\n"
    }
   }
  },
  {
   "cell_type": "code",
   "execution_count": 5,
   "outputs": [
    {
     "data": {
      "text/plain": "0.35186080185491636"
     },
     "execution_count": 5,
     "metadata": {},
     "output_type": "execute_result"
    }
   ],
   "source": [
    "nn.test(data[1_000:], labels[1_000:])"
   ],
   "metadata": {
    "collapsed": false,
    "pycharm": {
     "name": "#%%\n"
    }
   }
  }
 ],
 "metadata": {
  "kernelspec": {
   "display_name": "Python 3",
   "language": "python",
   "name": "python3"
  },
  "language_info": {
   "codemirror_mode": {
    "name": "ipython",
    "version": 2
   },
   "file_extension": ".py",
   "mimetype": "text/x-python",
   "name": "python",
   "nbconvert_exporter": "python",
   "pygments_lexer": "ipython2",
   "version": "2.7.6"
  }
 },
 "nbformat": 4,
 "nbformat_minor": 0
}